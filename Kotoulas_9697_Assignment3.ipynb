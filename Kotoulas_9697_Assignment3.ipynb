{
 "cells": [
  {
   "attachments": {},
   "cell_type": "markdown",
   "metadata": {},
   "source": [
    "### Εργασία 3\n",
    "\n",
    "#### Αναγνώριση Προτύπων\n",
    "\n",
    "##### Κωτούλας Εμμανουήλ 9697"
   ]
  },
  {
   "attachments": {},
   "cell_type": "markdown",
   "metadata": {},
   "source": [
    "Αρχικά εισάγουμε τις απαραίτητες βιβλιοθήκες της python ώστε να χρησιμοποιήσουμε τον tree classifier και το iris dataset"
   ]
  },
  {
   "cell_type": "code",
   "execution_count": 249,
   "metadata": {},
   "outputs": [],
   "source": [
    "from sklearn.datasets import load_iris\n",
    "from sklearn.tree import DecisionTreeClassifier\n",
    "import numpy as np\n",
    "from sklearn.metrics import accuracy_score\n",
    "import matplotlib.pyplot as plt\n",
    "from sklearn.utils import resample\n",
    "from collections import Counter"
   ]
  },
  {
   "cell_type": "code",
   "execution_count": 250,
   "metadata": {},
   "outputs": [],
   "source": [
    "iris = load_iris()\n",
    "\n",
    "X = iris.data[:, :2]  # διαβάζουμε μόνο τα πρώτα δύο στοιχεία\n",
    "y = iris.target\n",
    "\n",
    "\n",
    "Xtrain = np.vstack((X[:25],X[50:75],X[100:125]))\n",
    "Ytrain = np.hstack((y[:25],y[50:75],y[100:125]))\n",
    "\n",
    "\n",
    "Xtest = np.vstack((X[25:50],X[75:100],X[125:150]))\n",
    "Ytest = np.hstack((y[25:50],y[75:100],y[125:150]))\n"
   ]
  },
  {
   "attachments": {},
   "cell_type": "markdown",
   "metadata": {},
   "source": [
    "## Μέρος Α"
   ]
  },
  {
   "cell_type": "code",
   "execution_count": 251,
   "metadata": {},
   "outputs": [
    {
     "name": "stdout",
     "output_type": "stream",
     "text": [
      "1 0.64 0.64\n",
      "2 0.68 0.68\n",
      "3 0.6933333333333334 0.6933333333333334\n",
      "4 0.8 0.8\n",
      "5 0.7866666666666666 0.8\n",
      "6 0.7866666666666666 0.8\n",
      "7 0.68 0.8\n",
      "8 0.6933333333333334 0.8\n",
      "9 0.6666666666666666 0.8\n",
      "10 0.72 0.8\n",
      "11 0.7066666666666667 0.8\n",
      "12 0.7066666666666667 0.8\n",
      "13 0.72 0.8\n",
      "14 0.72 0.8\n",
      "Best accuracy = 0.8 at depth 4\n"
     ]
    }
   ],
   "source": [
    "bestDepth = 1\n",
    "bestAccuracy = 0\n",
    "\n",
    "for i in range(1,15):\n",
    "    clf = DecisionTreeClassifier(max_depth=i)\n",
    "\n",
    "    clf.fit(Xtrain,Ytrain)\n",
    "\n",
    "    Ypred = clf.predict(Xtest)\n",
    "\n",
    "    accu = accuracy_score(Ytest, Ypred)\n",
    "\n",
    "    if accu > bestAccuracy :\n",
    "        bestAccuracy = accu\n",
    "        bestDepth = i\n",
    "\n",
    "    print(i, accu, bestAccuracy)\n",
    "\n",
    "print(\"Best accuracy = \" + str(bestAccuracy) + \" at depth \" + str(bestDepth))\n",
    "\n"
   ]
  },
  {
   "cell_type": "code",
   "execution_count": 252,
   "metadata": {},
   "outputs": [
    {
     "data": {
      "image/png": "[encoded data removed]",
      "text/plain": [
       "<Figure size 640x480 with 1 Axes>"
      ]
     },
     "metadata": {},
     "output_type": "display_data"
    }
   ],
   "source": [
    "clf = DecisionTreeClassifier(max_depth=bestDepth)\n",
    "clf.fit(Xtrain,Ytrain)\n",
    "\n",
    "\n",
    "x_min, x_max = X[:, 0].min() - 1, X[:, 0].max() + 1\n",
    "y_min, y_max = X[:, 1].min() - 1, X[:, 1].max() + 1\n",
    "xx, yy = np.meshgrid(np.arange(x_min, x_max, 0.02),np.arange(y_min, y_max, 0.02))\n",
    "\n",
    "Z = clf.predict(np.c_[xx.ravel(), yy.ravel()])\n",
    "Z = Z.reshape(xx.shape)\n",
    "cs = plt.contourf(xx, yy, Z, cmap=plt.cm.Paired)"
   ]
  },
  {
   "attachments": {},
   "cell_type": "markdown",
   "metadata": {},
   "source": [
    "## Μέρος Β"
   ]
  },
  {
   "cell_type": "code",
   "execution_count": 253,
   "metadata": {},
   "outputs": [
    {
     "name": "stdout",
     "output_type": "stream",
     "text": [
      "0.7333333333333333 1\n",
      "0.7466666666666667 2\n",
      "0.76 3\n",
      "0.72 4\n",
      "0.72 5\n",
      "0.7733333333333333 6\n",
      "0.7466666666666667 7\n",
      "0.6666666666666666 8\n",
      "0.7333333333333333 9\n",
      "0.7733333333333333 10\n",
      "0.72 11\n",
      "0.7333333333333333 12\n",
      "0.7466666666666667 13\n",
      "0.7733333333333333 14\n",
      "0.72 15\n",
      "0.76 16\n",
      "0.7066666666666667 17\n",
      "0.72 18\n",
      "0.72 19\n",
      "best accuracy = 0.7733333333333333 at depth 6\n"
     ]
    }
   ],
   "source": [
    "def most_frequent(List):\n",
    "    occurence_count = Counter(List)\n",
    "    return occurence_count.most_common(1)[0][0]\n",
    "\n",
    "\n",
    "def bootstrappedTree(X, y, Xtest ,depth, percentage):\n",
    "    y_preds = []\n",
    "    for i in range(100):\n",
    "        x_sampled, y_sampled = resample( X, y, n_samples = int(len(X)*percentage) )\n",
    "        clf = DecisionTreeClassifier(max_depth= depth)\n",
    "        clf.fit(x_sampled, y_sampled)\n",
    "\n",
    "        if i == 0 :\n",
    "            y_preds =  clf.predict(Xtest)\n",
    "        else:\n",
    "            y_preds = np.vstack(( y_preds, clf.predict(Xtest)))\n",
    "\n",
    "    y_finalPred = []\n",
    "\n",
    "    y_preds = np.swapaxes(y_preds,0,1)\n",
    "\n",
    "    for i in range(len(Xtest)):\n",
    "        y_finalPred.append(most_frequent(y_preds[i]))\n",
    "\n",
    "    return y_finalPred\n",
    "\n",
    "\n",
    "bestDepthBoot = 1\n",
    "bestAccuracy = 0\n",
    "\n",
    "for i in range(1,20):\n",
    "    y_preds = bootstrappedTree(Xtrain, Ytrain, Xtest, i, 0.5)\n",
    "    accuBoot = accuracy_score(Ytest, y_preds)\n",
    "    if accuBoot > bestAccuracy :\n",
    "        bestAccuracy = accuBoot\n",
    "        bestDepthBoot = i\n",
    "    print(accuBoot,i)\n",
    "\n",
    "\n",
    "print(\"best accuracy = \" + str(bestAccuracy) + \" at depth \" + str(bestDepthBoot))\n"
   ]
  },
  {
   "cell_type": "code",
   "execution_count": 254,
   "metadata": {},
   "outputs": [
    {
     "data": {
      "image/png": "[encoded data removed]",
      "text/plain": [
       "<Figure size 640x480 with 1 Axes>"
      ]
     },
     "metadata": {},
     "output_type": "display_data"
    }
   ],
   "source": [
    "x_min, x_max = X[:, 0].min() - 1, X[:, 0].max() + 1\n",
    "y_min, y_max = X[:, 1].min() - 1, X[:, 1].max() + 1\n",
    "xx, yy = np.meshgrid(np.arange(x_min, x_max, 0.02),np.arange(y_min, y_max, 0.02))\n",
    "\n",
    "Z = bootstrappedTree(Xtrain, Ytrain, np.c_[xx.ravel(), yy.ravel()], bestDepthBoot, 0.5 )\n",
    "Z = np.reshape(Z,xx.shape)\n",
    "cs = plt.contourf(xx, yy, Z, cmap=plt.cm.Paired)"
   ]
  }
 ],
 "metadata": {
  "kernelspec": {
   "display_name": "Python 3",
   "language": "python",
   "name": "python3"
  },
  "language_info": {
   "codemirror_mode": {
    "name": "ipython",
    "version": 3
   },
   "file_extension": ".py",
   "mimetype": "text/x-python",
   "name": "python",
   "nbconvert_exporter": "python",
   "pygments_lexer": "ipython3",
   "version": "3.11.0"
  },
  "orig_nbformat": 4,
  "vscode": {
   "interpreter": {
    "hash": "c261aea317cc0286b3b3261fbba9abdec21eaa57589985bb7a274bf54d6cc0a7"
   }
  }
 },
 "nbformat": 4,
 "nbformat_minor": 2
}
