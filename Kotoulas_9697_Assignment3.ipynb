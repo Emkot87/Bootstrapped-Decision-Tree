{
 "cells": [
  {
   "attachments": {},
   "cell_type": "markdown",
   "metadata": {},
   "source": [
    "### Εργασία 3\n",
    "\n",
    "#### Αναγνώριση Προτύπων\n",
    "\n",
    "##### Κωτούλας Εμμανουήλ 9697"
   ]
  },
  {
   "cell_type": "code",
   "execution_count": null,
   "metadata": {},
   "outputs": [],
   "source": [
    "\n",
    "from sklearn.datasets import load_iris\n",
    "from sklearn.tree import DecisionTreeClassifier"
   ]
  }
 ],
 "metadata": {
  "kernelspec": {
   "display_name": "Python 3.7.9 64-bit (microsoft store)",
   "language": "python",
   "name": "python3"
  },
  "language_info": {
   "name": "python",
   "version": "3.7.9"
  },
  "orig_nbformat": 4,
  "vscode": {
   "interpreter": {
    "hash": "947ffd246a570627ed4255f07489b2072e0d6a60abe8310593fde22efbc3e0ac"
   }
  }
 },
 "nbformat": 4,
 "nbformat_minor": 2
}
