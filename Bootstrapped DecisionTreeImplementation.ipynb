{
 "cells": [
  {
   "attachments": {},
   "cell_type": "markdown",
   "metadata": {},
   "source": [
    "### Εργασία 3\n",
    "\n",
    "#### Αναγνώριση Προτύπων\n",
    "\n",
    "##### Κωτούλας Εμμανουήλ 9697"
   ]
  },
  {
   "attachments": {},
   "cell_type": "markdown",
   "metadata": {},
   "source": [
    "Αρχικά εισάγονται οι απαραίτητες βιβλιοθήκες της python ώστε να χρησιμοποιηθεί ο decision tree classifier και το iris dataset"
   ]
  },
  {
   "cell_type": "code",
   "execution_count": 186,
   "metadata": {},
   "outputs": [],
   "source": [
    "from sklearn.datasets import load_iris\n",
    "from sklearn.tree import DecisionTreeClassifier\n",
    "import numpy as np\n",
    "from sklearn.metrics import accuracy_score\n",
    "import matplotlib.pyplot as plt\n",
    "from sklearn.utils import resample\n",
    "from collections import Counter"
   ]
  },
  {
   "attachments": {},
   "cell_type": "markdown",
   "metadata": {},
   "source": [
    "Το σπλιτ δεν γίνεται με κάποιον τυχαίο τρόπο  \n",
    "Από κάθε 50αδα τα πρώτα 25 είναι για το train και τα δεύτερα 25 για το test  \n",
    "Τα randomstate έχουν οριστεί σε μια αυθέρετη τιμή 5 ώστε να είναι παρόμοια κάθε φορά τα αποτελέσματα   \n",
    "Για το resampling χρησιμοποιήθηκε η συνάρτηση resample από το scikit-learn\n",
    "Δοκίμασα να ορίσω μια διαφορετική τιμή για το random state του resampler για κάθε δέντρο του forest όμως δεν το κράτησα επειδή τα αποτελέσματα ήταν περίεργα\n"
   ]
  },
  {
   "cell_type": "code",
   "execution_count": 187,
   "metadata": {},
   "outputs": [],
   "source": [
    "iris = load_iris() #εισάγωνται τα δεδομένα απο το iris\n",
    "\n",
    "X = iris.data[:, :2]  # μόνο τα πρώτα δύο χαρακτηριστικα\n",
    "y = iris.target \n",
    "\n",
    "\n",
    "Xtrain = np.vstack((X[:25],X[50:75],X[100:125])) # αποθηκεύονται για train τα πρωτα 25 απο καθε 50 \n",
    "Ytrain = np.hstack((y[:25],y[50:75],y[100:125])) \n",
    "\n",
    "\n",
    "Xtest = np.vstack((X[25:50],X[75:100],X[125:150])) # και τα  υπόλοιπα 25 για τεστ\n",
    "Ytest = np.hstack((y[25:50],y[75:100],y[125:150]))\n"
   ]
  },
  {
   "attachments": {},
   "cell_type": "markdown",
   "metadata": {},
   "source": [
    "## Μέρος Α"
   ]
  },
  {
   "cell_type": "code",
   "execution_count": 188,
   "metadata": {},
   "outputs": [
    {
     "name": "stdout",
     "output_type": "stream",
     "text": [
      "1 0.64 0.64\n",
      "2 0.68 0.68\n",
      "3 0.6933333333333334 0.6933333333333334\n",
      "4 0.8 0.8\n",
      "5 0.8 0.8\n",
      "6 0.8 0.8\n",
      "7 0.68 0.8\n",
      "8 0.7066666666666667 0.8\n",
      "9 0.68 0.8\n",
      "10 0.72 0.8\n",
      "11 0.72 0.8\n",
      "12 0.72 0.8\n",
      "13 0.72 0.8\n",
      "14 0.72 0.8\n",
      "Best accuracy = 0.8 at depth 4\n"
     ]
    }
   ],
   "source": [
    "bestDepth = 1 # αρχικοποίηση καλύτερου βάθους και καλύτερου accuracy\n",
    "bestAccuracy = 0\n",
    "\n",
    "for i in range(1,15):\n",
    "    clf = DecisionTreeClassifier(max_depth=i, random_state= 5) # ορίζεται ο classifier με μέγιστο βάθος i \n",
    "\n",
    "    clf.fit(Xtrain,Ytrain)  # και γίνεται trained με τα δεδομένα \n",
    "\n",
    "    Ypred = clf.predict(Xtest) # καλείται ένα prediction για τα test data \n",
    "\n",
    "    accu = accuracy_score(Ytest, Ypred) # και βρίσκεται το accuracy\n",
    "\n",
    "    if accu > bestAccuracy : # αν το accuracy είναι μεγαλύτερο από το προηγούμενο καλύτερο ->\n",
    "        bestAccuracy = accu # αποθηκεύεται η τιμή του και το βάθος στο οποίο επιτεύχθηκε\n",
    "        bestDepth = i\n",
    "\n",
    "    print(i, accu, bestAccuracy)\n",
    "# τέλος τυπώνεται το καλύτερο accuracy και το αντίστοιχο βάθος στο οποίο επιτέυχθηκε\n",
    "print(\"Best accuracy = \" + str(bestAccuracy) + \" at depth \" + str(bestDepth))\n",
    "\n"
   ]
  },
  {
   "cell_type": "code",
   "execution_count": 189,
   "metadata": {},
   "outputs": [
    {
     "data": {
      "image/png": "[encoded data removed]",
      "text/plain": [
       "<Figure size 640x480 with 1 Axes>"
      ]
     },
     "metadata": {},
     "output_type": "display_data"
    }
   ],
   "source": [
    "# Για το καλύτερο βα΄θος bestDepth ορίζεται ξανά ο κλασσιφιερ και \n",
    "\n",
    "clf = DecisionTreeClassifier(max_depth=bestDepth, random_state=5)\n",
    "clf.fit(Xtrain,Ytrain)\n",
    "\n",
    "# ορίζονται κάποια linear δεδομένα ώστε να γίνει το πλοτ για τις περιοχές απόφασης\n",
    "\n",
    "x_min, x_max = X[:, 0].min() - 1, X[:, 0].max() + 1\n",
    "y_min, y_max = X[:, 1].min() - 1, X[:, 1].max() + 1\n",
    "xx, yy = np.meshgrid(np.arange(x_min, x_max, 0.02),np.arange(y_min, y_max, 0.02))\n",
    "\n",
    "Z = clf.predict(np.c_[xx.ravel(), yy.ravel()])\n",
    "Z = Z.reshape(xx.shape)\n",
    "cs = plt.contourf(xx, yy, Z, cmap=plt.cm.Paired)"
   ]
  },
  {
   "attachments": {},
   "cell_type": "markdown",
   "metadata": {},
   "source": [
    "## Μέρος Β"
   ]
  },
  {
   "cell_type": "code",
   "execution_count": 190,
   "metadata": {},
   "outputs": [],
   "source": [
    "# συνάρτηση που βρίσκει το σύμβολο με τις περισσότερες εμφαν΄ισεις μέσα σε μια λίστα\n",
    "def most_frequent(List):\n",
    "    occurence_count = Counter(List)\n",
    "    return occurence_count.most_common(1)[0][0]\n",
    "\n",
    "# συνάρτηση που υλοποιεί το bootstrapped tree\n",
    "# Κάνει train ολα τα δέντρα κάνοντας resample κάθε φορά με έναν τυχαίο τρόπο\n",
    "# στο τέλος βγάζει αποτέλεσμα ανάλογα με την πλειοψηφία\n",
    "def bootstrappedTree(X, y, XtestB ,depth, percentage):\n",
    "    # αρχικοποι΄ήσει πίνακα για τις προβλέψεις\n",
    "    y_preds = []\n",
    "\n",
    "    for i in range(100):\n",
    "        # resampling όσων στοιχείων ορίζονται από το γ\n",
    "        x_sampled, y_sampled = resample( X, y, n_samples = int(len(X)*percentage) )\n",
    "        # ορισμός του classifier\n",
    "        clf = DecisionTreeClassifier(max_depth= depth, random_state=9)\n",
    "        # training στα sampled δεδομένα\n",
    "        clf.fit(x_sampled, y_sampled)\n",
    "\n",
    "        # αποθήκευση των δεδομένων\n",
    "        if i == 0 :\n",
    "            y_preds =  clf.predict(XtestB)\n",
    "        else:\n",
    "            y_preds = np.vstack(( y_preds, clf.predict(XtestB)))\n",
    "\n",
    "    # πίνακας για τις τελικές προβλέψεις\n",
    "    y_finalPred = []\n",
    "\n",
    "    # αλλαγή αξόνων των predictions ώστε κάθε γραμμή να έχει όλα τα predictions από τα δέντρα για ένα στοιχείο\n",
    "    y_preds = np.swapaxes(y_preds,0,1)\n",
    "\n",
    "    # τελική δημιουργία της πρόβλεψης ανάλογα με την πλειοψηφία\n",
    "    for i in range(len(XtestB)):\n",
    "        y_finalPred.append(most_frequent(y_preds[i]))\n",
    "\n",
    "    return y_finalPred\n"
   ]
  },
  {
   "cell_type": "code",
   "execution_count": 191,
   "metadata": {},
   "outputs": [
    {
     "name": "stdout",
     "output_type": "stream",
     "text": [
      "0.6 1\n",
      "0.7466666666666667 2\n",
      "0.76 3\n",
      "0.7333333333333333 4\n",
      "0.76 5\n",
      "0.72 6\n",
      "0.7466666666666667 7\n",
      "0.7066666666666667 8\n",
      "0.7333333333333333 9\n",
      "0.7466666666666667 10\n",
      "0.7066666666666667 11\n",
      "0.72 12\n",
      "0.72 13\n",
      "0.6933333333333334 14\n",
      "0.7066666666666667 15\n",
      "0.7466666666666667 16\n",
      "0.76 17\n",
      "0.7333333333333333 18\n",
      "0.76 19\n",
      "best accuracy = 0.76 at depth 3\n"
     ]
    }
   ],
   "source": [
    "# όπως και πιο πάνω για γ = 0.5 σκανάρονται όλα τα βάθη για να βρεθεί το καλύτερο \n",
    "bestDepthBoot = 1\n",
    "bestAccuracy = 0\n",
    "\n",
    "for i in range(1,20):\n",
    "    y_preds = bootstrappedTree(Xtrain, Ytrain, Xtest, i, 0.5)\n",
    "    accuBoot = accuracy_score(Ytest, y_preds)\n",
    "    if accuBoot > bestAccuracy :\n",
    "        bestAccuracy = accuBoot\n",
    "        bestDepthBoot = i\n",
    "    print(accuBoot,i)\n",
    "\n",
    "\n",
    "print(\"best accuracy = \" + str(bestAccuracy) + \" at depth \" + str(bestDepthBoot))"
   ]
  },
  {
   "cell_type": "code",
   "execution_count": 192,
   "metadata": {},
   "outputs": [
    {
     "data": {
      "image/png": "[encoded data removed]",
      "text/plain": [
       "<Figure size 640x480 with 1 Axes>"
      ]
     },
     "metadata": {},
     "output_type": "display_data"
    }
   ],
   "source": [
    "# όπως και πριν δημιουργούνται dummy δεδομένα ώστε να αποτυπωθούν σωστά τα όρια \n",
    "\n",
    "x_min, x_max = X[:, 0].min() - 1, X[:, 0].max() + 1\n",
    "y_min, y_max = X[:, 1].min() - 1, X[:, 1].max() + 1\n",
    "xx, yy = np.meshgrid(np.arange(x_min, x_max, 0.02),np.arange(y_min, y_max, 0.02))\n",
    "\n",
    "Z = bootstrappedTree(Xtrain, Ytrain, np.c_[xx.ravel(), yy.ravel()], bestDepthBoot, 0.5 )\n",
    "Z = np.reshape(Z,xx.shape)\n",
    "cs = plt.contourf(xx, yy, Z, cmap=plt.cm.Paired)"
   ]
  },
  {
   "attachments": {},
   "cell_type": "markdown",
   "metadata": {},
   "source": [
    "Συγκριτικά με τον πρώτο ταξινομητή ο δεύτερος έχει πολύ πιο περίπλοκα όρια παρότι τα δέντρα του έχουν βάθος μόλις 2\n",
    "Επίσης φαίνεται να έχει χαμηλότερο accuracy από το 1 ωστόσο έχω παρατηρήσει (όπως θα φανεί και παρακάτω) ότι βρίσκω μεγαλύτερο accuracy  \n",
    "με μικρότερο γ απο 50% με καλά αποτελέσματα με 20%"
   ]
  },
  {
   "cell_type": "code",
   "execution_count": 193,
   "metadata": {},
   "outputs": [
    {
     "name": "stdout",
     "output_type": "stream",
     "text": [
      "best accuracy = 0.84 at depth 6 at gamma 0.2\n"
     ]
    }
   ],
   "source": [
    "# τέλος καλε΄ίται μια μεγάλη λούπα με διάφορες τιμ΄ες του γ ώστε να βρεθεί ο καλύτερος συνδιασμός\n",
    "\n",
    "bestDepthGamma = 1\n",
    "bestAccuracyGamma = 0\n",
    "bestGamma = 0\n",
    "\n",
    "j = [0.1, 0.2, 0.3, 0.4, 0.5, 0.6, 0.7, 0.8, 0.9, 1]\n",
    "for gamma in j :\n",
    "    for i in range(1,20):\n",
    "        y_preds = bootstrappedTree(Xtrain, Ytrain, Xtest, i, gamma)\n",
    "        accuBoot = accuracy_score(Ytest, y_preds)\n",
    "        if accuBoot > bestAccuracyGamma :\n",
    "            bestAccuracyGamma = accuBoot\n",
    "            bestDepthGamma = i\n",
    "            bestGamma = gamma\n",
    "\n",
    "\n",
    "print(\"best accuracy = \" + str(bestAccuracyGamma) + \" at depth \" + str(bestDepthGamma) + \" at gamma \" + str(bestGamma))"
   ]
  }
 ],
 "metadata": {
  "kernelspec": {
   "display_name": "Python 3",
   "language": "python",
   "name": "python3"
  },
  "language_info": {
   "codemirror_mode": {
    "name": "ipython",
    "version": 3
   },
   "file_extension": ".py",
   "mimetype": "text/x-python",
   "name": "python",
   "nbconvert_exporter": "python",
   "pygments_lexer": "ipython3",
   "version": "3.11.1"
  },
  "orig_nbformat": 4,
  "vscode": {
   "interpreter": {
    "hash": "5238573367df39f7286bb46f9ff5f08f63a01a80960060ce41e3c79b190280fa"
   }
  }
 },
 "nbformat": 4,
 "nbformat_minor": 2
}
